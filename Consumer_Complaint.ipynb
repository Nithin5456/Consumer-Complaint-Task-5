{
 "cells": [
  {
   "cell_type": "code",
   "execution_count": 2,
   "id": "55556e28-d014-4208-9052-7a61744d198d",
   "metadata": {},
   "outputs": [],
   "source": [
    "import pandas as pd\n",
    "import numpy as np\n",
    "import matplotlib.pyplot as plt\n",
    "import seaborn as sns\n",
    "import re\n",
    "import nltk\n",
    "from nltk.corpus import stopwords\n",
    "from nltk.stem import WordNetLemmatizer\n",
    "from sklearn.model_selection import train_test_split\n",
    "from sklearn.feature_extraction.text import TfidfVectorizer\n",
    "from sklearn.linear_model import LogisticRegression\n",
    "from sklearn.naive_bayes import MultinomialNB\n",
    "from sklearn.metrics import accuracy_score, classification_report, confusion_matrix"
   ]
  },
  {
   "cell_type": "code",
   "execution_count": 3,
   "id": "38520070-642c-4d43-b045-ce06ee770cf8",
   "metadata": {},
   "outputs": [
    {
     "data": {
      "text/html": [
       "<div>\n",
       "<style scoped>\n",
       "    .dataframe tbody tr th:only-of-type {\n",
       "        vertical-align: middle;\n",
       "    }\n",
       "\n",
       "    .dataframe tbody tr th {\n",
       "        vertical-align: top;\n",
       "    }\n",
       "\n",
       "    .dataframe thead th {\n",
       "        text-align: right;\n",
       "    }\n",
       "</style>\n",
       "<table border=\"1\" class=\"dataframe\">\n",
       "  <thead>\n",
       "    <tr style=\"text-align: right;\">\n",
       "      <th></th>\n",
       "      <th>Date received</th>\n",
       "      <th>Product</th>\n",
       "      <th>Sub-product</th>\n",
       "      <th>Issue</th>\n",
       "      <th>Sub-issue</th>\n",
       "      <th>Consumer complaint narrative</th>\n",
       "      <th>Company public response</th>\n",
       "      <th>Company</th>\n",
       "      <th>State</th>\n",
       "      <th>ZIP code</th>\n",
       "      <th>Tags</th>\n",
       "      <th>Consumer consent provided?</th>\n",
       "      <th>Submitted via</th>\n",
       "      <th>Date sent to company</th>\n",
       "      <th>Company response to consumer</th>\n",
       "      <th>Timely response?</th>\n",
       "      <th>Consumer disputed?</th>\n",
       "      <th>Complaint ID</th>\n",
       "    </tr>\n",
       "  </thead>\n",
       "  <tbody>\n",
       "    <tr>\n",
       "      <th>0</th>\n",
       "      <td>08/28/25</td>\n",
       "      <td>Credit reporting or other personal consumer re...</td>\n",
       "      <td>Credit reporting</td>\n",
       "      <td>Problem with a company's investigation into an...</td>\n",
       "      <td>Investigation took more than 30 days</td>\n",
       "      <td>NaN</td>\n",
       "      <td>None</td>\n",
       "      <td>TRANSUNION INTERMEDIATE HOLDINGS, INC.</td>\n",
       "      <td>AR</td>\n",
       "      <td>72901</td>\n",
       "      <td>None</td>\n",
       "      <td>None</td>\n",
       "      <td>Web</td>\n",
       "      <td>08/28/25</td>\n",
       "      <td>In progress</td>\n",
       "      <td>Yes</td>\n",
       "      <td>NaN</td>\n",
       "      <td>15576155</td>\n",
       "    </tr>\n",
       "    <tr>\n",
       "      <th>1</th>\n",
       "      <td>09/01/25</td>\n",
       "      <td>Credit reporting or other personal consumer re...</td>\n",
       "      <td>Credit reporting</td>\n",
       "      <td>Improper use of your report</td>\n",
       "      <td>Reporting company used your report improperly</td>\n",
       "      <td>NaN</td>\n",
       "      <td>None</td>\n",
       "      <td>TRANSUNION INTERMEDIATE HOLDINGS, INC.</td>\n",
       "      <td>TX</td>\n",
       "      <td>76040</td>\n",
       "      <td>None</td>\n",
       "      <td>None</td>\n",
       "      <td>Web</td>\n",
       "      <td>09/01/25</td>\n",
       "      <td>In progress</td>\n",
       "      <td>Yes</td>\n",
       "      <td>NaN</td>\n",
       "      <td>15636031</td>\n",
       "    </tr>\n",
       "    <tr>\n",
       "      <th>2</th>\n",
       "      <td>08/27/25</td>\n",
       "      <td>Credit reporting or other personal consumer re...</td>\n",
       "      <td>Credit reporting</td>\n",
       "      <td>Incorrect information on your report</td>\n",
       "      <td>Information belongs to someone else</td>\n",
       "      <td>NaN</td>\n",
       "      <td>None</td>\n",
       "      <td>Experian Information Solutions Inc.</td>\n",
       "      <td>FL</td>\n",
       "      <td>33319</td>\n",
       "      <td>None</td>\n",
       "      <td>None</td>\n",
       "      <td>Web</td>\n",
       "      <td>08/27/25</td>\n",
       "      <td>In progress</td>\n",
       "      <td>Yes</td>\n",
       "      <td>NaN</td>\n",
       "      <td>15549463</td>\n",
       "    </tr>\n",
       "    <tr>\n",
       "      <th>3</th>\n",
       "      <td>07/11/25</td>\n",
       "      <td>Credit reporting or other personal consumer re...</td>\n",
       "      <td>Credit reporting</td>\n",
       "      <td>Incorrect information on your report</td>\n",
       "      <td>Information belongs to someone else</td>\n",
       "      <td>I did not initiate these inquiries and believe...</td>\n",
       "      <td>Company has responded to the consumer and the ...</td>\n",
       "      <td>TRANSUNION INTERMEDIATE HOLDINGS, INC.</td>\n",
       "      <td>TX</td>\n",
       "      <td>761XX</td>\n",
       "      <td>None</td>\n",
       "      <td>Consent provided</td>\n",
       "      <td>Web</td>\n",
       "      <td>07/11/25</td>\n",
       "      <td>Closed with non-monetary relief</td>\n",
       "      <td>Yes</td>\n",
       "      <td>NaN</td>\n",
       "      <td>14595898</td>\n",
       "    </tr>\n",
       "    <tr>\n",
       "      <th>4</th>\n",
       "      <td>07/24/25</td>\n",
       "      <td>Mortgage</td>\n",
       "      <td>FHA mortgage</td>\n",
       "      <td>Struggling to pay mortgage</td>\n",
       "      <td>Trying to communicate with the company to fix ...</td>\n",
       "      <td>NaN</td>\n",
       "      <td>None</td>\n",
       "      <td>AmeriHome Mortgage Company, LLC</td>\n",
       "      <td>FL</td>\n",
       "      <td>34983</td>\n",
       "      <td>None</td>\n",
       "      <td>None</td>\n",
       "      <td>Web</td>\n",
       "      <td>08/01/25</td>\n",
       "      <td>In progress</td>\n",
       "      <td>Yes</td>\n",
       "      <td>NaN</td>\n",
       "      <td>14869942</td>\n",
       "    </tr>\n",
       "  </tbody>\n",
       "</table>\n",
       "</div>"
      ],
      "text/plain": [
       "  Date received                                            Product  \\\n",
       "0      08/28/25  Credit reporting or other personal consumer re...   \n",
       "1      09/01/25  Credit reporting or other personal consumer re...   \n",
       "2      08/27/25  Credit reporting or other personal consumer re...   \n",
       "3      07/11/25  Credit reporting or other personal consumer re...   \n",
       "4      07/24/25                                           Mortgage   \n",
       "\n",
       "        Sub-product                                              Issue  \\\n",
       "0  Credit reporting  Problem with a company's investigation into an...   \n",
       "1  Credit reporting                        Improper use of your report   \n",
       "2  Credit reporting               Incorrect information on your report   \n",
       "3  Credit reporting               Incorrect information on your report   \n",
       "4      FHA mortgage                         Struggling to pay mortgage   \n",
       "\n",
       "                                           Sub-issue  \\\n",
       "0               Investigation took more than 30 days   \n",
       "1      Reporting company used your report improperly   \n",
       "2                Information belongs to someone else   \n",
       "3                Information belongs to someone else   \n",
       "4  Trying to communicate with the company to fix ...   \n",
       "\n",
       "                        Consumer complaint narrative  \\\n",
       "0                                                NaN   \n",
       "1                                                NaN   \n",
       "2                                                NaN   \n",
       "3  I did not initiate these inquiries and believe...   \n",
       "4                                                NaN   \n",
       "\n",
       "                             Company public response  \\\n",
       "0                                               None   \n",
       "1                                               None   \n",
       "2                                               None   \n",
       "3  Company has responded to the consumer and the ...   \n",
       "4                                               None   \n",
       "\n",
       "                                  Company State ZIP code  Tags  \\\n",
       "0  TRANSUNION INTERMEDIATE HOLDINGS, INC.    AR    72901  None   \n",
       "1  TRANSUNION INTERMEDIATE HOLDINGS, INC.    TX    76040  None   \n",
       "2     Experian Information Solutions Inc.    FL    33319  None   \n",
       "3  TRANSUNION INTERMEDIATE HOLDINGS, INC.    TX    761XX  None   \n",
       "4         AmeriHome Mortgage Company, LLC    FL    34983  None   \n",
       "\n",
       "  Consumer consent provided? Submitted via Date sent to company  \\\n",
       "0                       None           Web             08/28/25   \n",
       "1                       None           Web             09/01/25   \n",
       "2                       None           Web             08/27/25   \n",
       "3           Consent provided           Web             07/11/25   \n",
       "4                       None           Web             08/01/25   \n",
       "\n",
       "      Company response to consumer Timely response?  Consumer disputed?  \\\n",
       "0                      In progress              Yes                 NaN   \n",
       "1                      In progress              Yes                 NaN   \n",
       "2                      In progress              Yes                 NaN   \n",
       "3  Closed with non-monetary relief              Yes                 NaN   \n",
       "4                      In progress              Yes                 NaN   \n",
       "\n",
       "   Complaint ID  \n",
       "0      15576155  \n",
       "1      15636031  \n",
       "2      15549463  \n",
       "3      14595898  \n",
       "4      14869942  "
      ]
     },
     "execution_count": 3,
     "metadata": {},
     "output_type": "execute_result"
    }
   ],
   "source": [
    "df = pd.read_csv(\"complaints-2025-09-21_04_41.csv\")\n",
    "df.head()"
   ]
  },
  {
   "cell_type": "code",
   "execution_count": 4,
   "id": "2c7d2aa7-7808-463e-a56c-4369ea74438b",
   "metadata": {},
   "outputs": [
    {
     "data": {
      "text/plain": [
       "(1511771, 18)"
      ]
     },
     "execution_count": 4,
     "metadata": {},
     "output_type": "execute_result"
    }
   ],
   "source": [
    "df.shape"
   ]
  },
  {
   "cell_type": "code",
   "execution_count": 6,
   "id": "f30fc2da-ca2b-4bcc-b8e2-a179d7ddf68a",
   "metadata": {},
   "outputs": [
    {
     "data": {
      "text/plain": [
       "['Date received',\n",
       " 'Product',\n",
       " 'Sub-product',\n",
       " 'Issue',\n",
       " 'Sub-issue',\n",
       " 'Consumer complaint narrative',\n",
       " 'Company public response',\n",
       " 'Company',\n",
       " 'State',\n",
       " 'ZIP code',\n",
       " 'Tags',\n",
       " 'Consumer consent provided?',\n",
       " 'Submitted via',\n",
       " 'Date sent to company',\n",
       " 'Company response to consumer',\n",
       " 'Timely response?',\n",
       " 'Consumer disputed?',\n",
       " 'Complaint ID']"
      ]
     },
     "execution_count": 6,
     "metadata": {},
     "output_type": "execute_result"
    }
   ],
   "source": [
    "df.columns.tolist()"
   ]
  },
  {
   "cell_type": "code",
   "execution_count": 7,
   "id": "580d6bec-5d76-4143-966e-04c4ba68f94f",
   "metadata": {},
   "outputs": [
    {
     "name": "stdout",
     "output_type": "stream",
     "text": [
      "Unique product names:\n",
      "['Credit reporting or other personal consumer reports' 'Mortgage'\n",
      " 'Debt collection' 'Credit card' 'Checking or savings account'\n",
      " 'Money transfer, virtual currency, or money service'\n",
      " 'Payday loan, title loan, personal loan, or advance loan' 'Student loan'\n",
      " 'Vehicle loan or lease' 'Debt or credit management' 'Prepaid card']\n",
      "\n",
      "First complaint example:\n",
      "I did not initiate these inquiries and believe they may involve unauthorized activity. Kindly investigate this issue and take corrective action promptly. The documentation is enclosed for your reference.\n",
      "\n",
      "Missing in Product: 0\n",
      "Missing in Complaint: 1381125\n",
      "Total rows: 1511771\n"
     ]
    }
   ],
   "source": [
    "pd.set_option('display.max_colwidth', None)\n",
    "print(\"Unique product names:\")\n",
    "print(df['Product'].unique())\n",
    "pd.reset_option('display.max_colwidth')\n",
    "\n",
    "narratives = df['Consumer complaint narrative'].dropna()\n",
    "if len(narratives) > 0:\n",
    "    print(\"\\nFirst complaint example:\")\n",
    "    print(narratives.iloc[0])\n",
    "else:\n",
    "    print(\"\\nNo complaints found!\")\n",
    "\n",
    "print(\"\\nMissing in Product:\", df['Product'].isnull().sum())\n",
    "print(\"Missing in Complaint:\", df['Consumer complaint narrative'].isnull().sum())\n",
    "print(\"Total rows:\", len(df))"
   ]
  },
  {
   "cell_type": "code",
   "execution_count": 8,
   "id": "e94cc9af-4ea1-4deb-ad0a-1fcc524332e0",
   "metadata": {},
   "outputs": [
    {
     "name": "stdout",
     "output_type": "stream",
     "text": [
      "Category counts (with NaN included):\n",
      "0.0    1374168\n",
      "1.0      71639\n",
      "NaN      49052\n",
      "2.0      11592\n",
      "3.0       5320\n",
      "Name: category, dtype: int64\n"
     ]
    }
   ],
   "source": [
    "# Map products to categories\n",
    "category_map = {\n",
    "    'Credit reporting or other personal consumer reports': 0,\n",
    "    'Debt collection': 1,\n",
    "    'Payday loan, title loan, personal loan, or advance loan': 2,\n",
    "    'Student loan': 2,\n",
    "    'Vehicle loan or lease': 2,\n",
    "    'Mortgage': 3\n",
    "}\n",
    "\n",
    "df['category'] = df['Product'].map(category_map)\n",
    "\n",
    "# Check how many records in each category\n",
    "print(\"Category counts (with NaN included):\")\n",
    "print(df['category'].value_counts(dropna=False))"
   ]
  },
  {
   "cell_type": "code",
   "execution_count": 9,
   "id": "4db3ffcd-26fb-40e7-9f73-6aef0f894b40",
   "metadata": {},
   "outputs": [
    {
     "name": "stdout",
     "output_type": "stream",
     "text": [
      "Dropped 1345129 rows with empty complaints\n",
      "Final shape: (117590, 19)\n",
      "\n",
      "Class counts:\n",
      "0.0    102015\n",
      "1.0     10633\n",
      "2.0      3117\n",
      "3.0      1825\n",
      "Name: category, dtype: int64\n",
      "\n",
      "Class %:\n",
      "0.0    86.75\n",
      "1.0     9.04\n",
      "2.0     2.65\n",
      "3.0     1.55\n",
      "Name: category, dtype: float64\n"
     ]
    }
   ],
   "source": [
    "# Keeping only rows with mapped categories\n",
    "df = df.dropna(subset=['category'])\n",
    "\n",
    "# Drop rows without complaint text\n",
    "before = len(df)\n",
    "df = df.dropna(subset=['Consumer complaint narrative'])\n",
    "after = len(df)\n",
    "\n",
    "print(\"Dropped\", before - after, \"rows with empty complaints\")\n",
    "print(\"Final shape:\", df.shape)\n",
    "\n",
    "# Class distribution\n",
    "print(\"\\nClass counts:\")\n",
    "print(df['category'].value_counts())\n",
    "\n",
    "print(\"\\nClass %:\")\n",
    "print((df['category'].value_counts(normalize=True) * 100).round(2))"
   ]
  },
  {
   "cell_type": "code",
   "execution_count": 11,
   "id": "1bfed27e-4176-48b9-b030-77deeb170881",
   "metadata": {},
   "outputs": [
    {
     "data": {
      "image/png": "[encoded data removed]",
      "text/plain": [
       "<Figure size 1000x600 with 1 Axes>"
      ]
     },
     "metadata": {},
     "output_type": "display_data"
    }
   ],
   "source": [
    "import matplotlib.pyplot as plt\n",
    "\n",
    "# Class counts\n",
    "class_counts = df['category'].value_counts()\n",
    "\n",
    "# Plot\n",
    "plt.figure(figsize=(10,6))\n",
    "class_counts.plot(kind='bar')\n",
    "\n",
    "plt.title(\"Class Distribution of Complaints\")\n",
    "plt.xlabel(\"Category\")\n",
    "plt.ylabel(\"Number of Complaints\")\n",
    "plt.xticks(ha=\"right\")\n",
    "plt.show()\n"
   ]
  },
  {
   "cell_type": "code",
   "execution_count": 13,
   "id": "440cd457-99b7-4251-b51b-55b6ff603bfb",
   "metadata": {},
   "outputs": [],
   "source": [
    "# Clean text function\n",
    "def clean_text(text):\n",
    "    if not isinstance(text, str):\n",
    "        return \"\"\n",
    "    \n",
    "    # Convert to lowercase\n",
    "    text = text.lower()\n",
    "    \n",
    "    # Remove non-alphabetic characters\n",
    "    text = re.sub(r'[^a-zA-Z\\s]', '', text)\n",
    "    \n",
    "    # Tokenize\n",
    "    words = text.split()\n",
    "    \n",
    "    # Remove stopwords\n",
    "    words = [w for w in words if w not in stop_words]\n",
    "    \n",
    "    # Lemmatize words\n",
    "    words = [lemmatizer.lemmatize(w) for w in words]\n",
    "    \n",
    "    # Join back into a single string\n",
    "    return ' '.join(words)\n"
   ]
  },
  {
   "cell_type": "code",
   "execution_count": 18,
   "id": "10882b9c-1ce8-4e1d-b12a-f3ee13f99de3",
   "metadata": {},
   "outputs": [
    {
     "name": "stdout",
     "output_type": "stream",
     "text": [
      "Cleaning text data\n",
      "Original: I did not initiate these inquiries and believe they may involve unauthorized activity. Kindly invest...\n",
      "Cleaned:  initiate inquiry believe may involve unauthorized activity kindly investigate issue take corrective ...\n"
     ]
    }
   ],
   "source": [
    "print(\"Cleaning text data\")\n",
    "df['cleaned_text'] = df['Consumer complaint narrative'].apply(clean_text)\n",
    "\n",
    "print(\"Original:\", df['Consumer complaint narrative'].iloc[0][:100] + \"...\")\n",
    "print(\"Cleaned: \", df['cleaned_text'].iloc[0][:100] + \"...\")\n"
   ]
  },
  {
   "cell_type": "code",
   "execution_count": 19,
   "id": "a5bda5f4-5706-4981-9891-bf04f8a8a9fe",
   "metadata": {},
   "outputs": [],
   "source": [
    "# features and target\n",
    "X = df['cleaned_text']\n",
    "y = df['category']\n",
    "\n",
    "\n",
    "X_train, X_test, y_train, y_test = train_test_split(X, y, test_size=0.2, random_state=42, stratify=y)\n"
   ]
  },
  {
   "cell_type": "code",
   "execution_count": 20,
   "id": "9435dbfb-a610-4ab4-89c8-2bafb217a680",
   "metadata": {},
   "outputs": [
    {
     "name": "stdout",
     "output_type": "stream",
     "text": [
      "Converting text to numerical features\n"
     ]
    }
   ],
   "source": [
    "# Convert text to numerical features\n",
    "print(\"Converting text to numerical features\")\n",
    "vectorizer = TfidfVectorizer(max_features=5000)  # stop_words already removed\n",
    "X_train_tfidf = vectorizer.fit_transform(X_train)\n",
    "X_test_tfidf = vectorizer.transform(X_test)\n"
   ]
  },
  {
   "cell_type": "code",
   "execution_count": 21,
   "id": "233f5542-8c78-445c-b5fa-c02c2de674c7",
   "metadata": {},
   "outputs": [
    {
     "name": "stdout",
     "output_type": "stream",
     "text": [
      "Training features shape: (326448, 5000)\n",
      "Testing features shape: (23518, 5000)\n"
     ]
    }
   ],
   "source": [
    "# Balance training data using RandomOverSampler (works on sparse data)\n",
    "from imblearn.over_sampling import RandomOverSampler\n",
    "ros = RandomOverSampler(random_state=42)\n",
    "X_train_res, y_train_res = ros.fit_resample(X_train_tfidf, y_train)\n",
    "\n",
    "print(f\"Training features shape: {X_train_res.shape}\")\n",
    "print(f\"Testing features shape: {X_test_tfidf.shape}\")"
   ]
  },
  {
   "cell_type": "code",
   "execution_count": 24,
   "id": "8a33f031-5fe6-485b-a1ce-963b7ebd06bb",
   "metadata": {},
   "outputs": [],
   "source": [
    "# Define models\n",
    "from sklearn.linear_model import LogisticRegression\n",
    "from sklearn.naive_bayes import MultinomialNB\n",
    "\n",
    "models = {\n",
    "    'Logistic Regression': LogisticRegression(random_state=42, class_weight='balanced', max_iter=500, solver='saga'),\n",
    "    'Naive Bayes': MultinomialNB(),\n",
    "}"
   ]
  },
  {
   "cell_type": "code",
   "execution_count": 26,
   "id": "76a70949-1651-4fc0-8871-9e06c6409fd9",
   "metadata": {},
   "outputs": [
    {
     "name": "stdout",
     "output_type": "stream",
     "text": [
      "\n",
      "Training Logistic Regression:\n",
      "Logistic Regression Accuracy: 0.9122\n",
      "Logistic Regression Macro F1-score: 0.7732\n",
      "\n",
      "Logistic Regression Classification Report:\n",
      "              precision    recall  f1-score   support\n",
      "\n",
      "         0.0       0.99      0.92      0.95     20403\n",
      "         1.0       0.60      0.86      0.71      2127\n",
      "         2.0       0.49      0.82      0.61       623\n",
      "         3.0       0.74      0.90      0.82       365\n",
      "\n",
      "    accuracy                           0.91     23518\n",
      "   macro avg       0.71      0.88      0.77     23518\n",
      "weighted avg       0.94      0.91      0.92     23518\n",
      "\n",
      "------------------------------------------------------------\n",
      "\n",
      "Training Naive Bayes:\n",
      "Naive Bayes Accuracy: 0.8661\n",
      "Naive Bayes Macro F1-score: 0.6764\n",
      "\n",
      "Naive Bayes Classification Report:\n",
      "              precision    recall  f1-score   support\n",
      "\n",
      "         0.0       0.99      0.88      0.93     20403\n",
      "         1.0       0.53      0.75      0.62      2127\n",
      "         2.0       0.31      0.87      0.46       623\n",
      "         3.0       0.55      0.96      0.70       365\n",
      "\n",
      "    accuracy                           0.87     23518\n",
      "   macro avg       0.59      0.86      0.68     23518\n",
      "weighted avg       0.92      0.87      0.88     23518\n",
      "\n",
      "------------------------------------------------------------\n"
     ]
    }
   ],
   "source": [
    "from sklearn.metrics import accuracy_score, classification_report, f1_score\n",
    "\n",
    "for name, model in models.items():\n",
    "    print(f\"\\nTraining {name}:\")\n",
    "    model.fit(X_train_res, y_train_res)\n",
    "    \n",
    "    y_pred = model.predict(X_test_tfidf)\n",
    "    \n",
    "    acc = accuracy_score(y_test, y_pred)\n",
    "    f1 = f1_score(y_test, y_pred, average='macro')\n",
    "    \n",
    "    print(f\"{name} Accuracy: {acc:.4f}\")\n",
    "    print(f\"{name} Macro F1-score: {f1:.4f}\")\n",
    "    print(f\"\\n{name} Classification Report:\")\n",
    "    print(classification_report(y_test, y_pred))\n",
    "    print(\"-\"*60)\n"
   ]
  },
  {
   "cell_type": "code",
   "execution_count": 29,
   "id": "c057eaa0-5892-4218-8684-d3df364eb91c",
   "metadata": {},
   "outputs": [
    {
     "data": {
      "image/png": "[encoded data removed]",
      "text/plain": [
       "<Figure size 600x400 with 1 Axes>"
      ]
     },
     "metadata": {},
     "output_type": "display_data"
    }
   ],
   "source": [
    "import matplotlib.pyplot as plt\n",
    "\n",
    "# Model names and their accuracy\n",
    "model_names = ['Logistic Regression', 'Naive Bayes']\n",
    "accuracy_scores = [0.9122, 0.8661]\n",
    "\n",
    "plt.figure(figsize=(6,4))\n",
    "bars = plt.bar(model_names, accuracy_scores, color=['skyblue', 'lightcoral'])\n",
    "\n",
    "# Add accuracy values on top of bars\n",
    "for bar, acc in zip(bars, accuracy_scores):\n",
    "    plt.text(bar.get_x() + bar.get_width()/2, bar.get_height() + 0.01, f\"{acc:.2f}\", \n",
    "             ha='center', fontweight='bold')\n",
    "\n",
    "plt.ylim(0, 1)\n",
    "plt.ylabel(\"Accuracy\")\n",
    "plt.title(\"Model Accuracy Comparison\")\n",
    "plt.show()\n"
   ]
  },
  {
   "cell_type": "code",
   "execution_count": 30,
   "id": "ffc48d20-8402-4d21-8ee7-377eadf85a49",
   "metadata": {},
   "outputs": [
    {
     "name": "stdout",
     "output_type": "stream",
     "text": [
      "                                         Complaint Predicted Category\n",
      "0  I am being called by a debt collector every day    Debt Collection\n",
      "1           My credit report has wrong information   Credit Reporting\n",
      "2         I need help with my student loan payment      Consumer Loan\n",
      "3     I am having trouble with my mortgage company           Mortgage\n"
     ]
    }
   ],
   "source": [
    "# Assign best model\n",
    "best_model = models['Logistic Regression']\n",
    "\n",
    "# New complaints\n",
    "new_complaints = [\n",
    "    \"I am being called by a debt collector every day\",\n",
    "    \"My credit report has wrong information\",\n",
    "    \"I need help with my student loan payment\",\n",
    "    \"I am having trouble with my mortgage company\"\n",
    "]\n",
    "\n",
    "# Clean text\n",
    "cleaned_new = [clean_text(text) for text in new_complaints]\n",
    "\n",
    "# Convert to TF-IDF\n",
    "X_new_tfidf = vectorizer.transform(cleaned_new)\n",
    "\n",
    "# Predict categories\n",
    "predictions = best_model.predict(X_new_tfidf)\n",
    "\n",
    "# Map numeric categories to names\n",
    "category_map = {0:'Credit Reporting', 1:'Debt Collection', 2:'Consumer Loan', 3:'Mortgage'}\n",
    "pred_category_names = [category_map[int(p)] for p in predictions]\n",
    "\n",
    "# Display results\n",
    "import pandas as pd\n",
    "df_preds = pd.DataFrame({\n",
    "    'Complaint': new_complaints,\n",
    "    'Predicted Category': pred_category_names\n",
    "})\n",
    "print(df_preds)\n"
   ]
  },
  {
   "cell_type": "code",
   "execution_count": null,
   "id": "fe93cf8a-027e-41a7-abdc-9b616547a03a",
   "metadata": {},
   "outputs": [],
   "source": []
  }
 ],
 "metadata": {
  "kernelspec": {
   "display_name": "Python 3 (ipykernel)",
   "language": "python",
   "name": "python3"
  },
  "language_info": {
   "codemirror_mode": {
    "name": "ipython",
    "version": 3
   },
   "file_extension": ".py",
   "mimetype": "text/x-python",
   "name": "python",
   "nbconvert_exporter": "python",
   "pygments_lexer": "ipython3",
   "version": "3.11.7"
  }
 },
 "nbformat": 4,
 "nbformat_minor": 5
}
